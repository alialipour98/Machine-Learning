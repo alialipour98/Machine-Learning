{
 "cells": [
  {
   "cell_type": "code",
   "execution_count": 1,
   "metadata": {},
   "outputs": [],
   "source": [
    "import  os                              as os\n",
    "import  cv2                             as cv2\n",
    "import  numpy                           as np\n",
    "import  pandas                          as pd\n",
    "import  matplotlib.pyplot               as plt\n",
    "\n",
    "from    sklearn.metrics                 import ConfusionMatrixDisplay\n",
    "from    sklearn.mixture                 import GaussianMixture\n",
    "from    sklearn.decomposition           import PCA\n",
    "from    sklearn.discriminant_analysis   import LinearDiscriminantAnalysis\n",
    "from    sklearn.model_selection         import cross_val_score\n",
    "from    sklearn.model_selection         import KFold\n",
    "from    matplotlib.colors               import ListedColormap\n",
    "from    matplotlib.patches              import Ellipse"
   ]
  },
  {
   "attachments": {},
   "cell_type": "markdown",
   "metadata": {},
   "source": [
    "<center><font color=\"#e30b5d\"><h1>Question 5</h1></font></center>\n",
    "<center><font color=\"#00FF00\"><h2>Part A</h2></font></center>"
   ]
  },
  {
   "cell_type": "code",
   "execution_count": 4,
   "metadata": {},
   "outputs": [],
   "source": [
    "def loadImages(dirName):\n",
    "    data  = []\n",
    "    label = []\n",
    "    for root, dirs, files in os.walk(dirName):\n",
    "        for file in files:\n",
    "            face = plt.imread(os.path.join(root, file))\n",
    "            face = face.reshape(256 * 256, ).tolist()\n",
    "            data.append(face)\n",
    "            label.append(file.split('.')[1])\n",
    "    return np.asarray(data) , label"
   ]
  },
  {
   "cell_type": "code",
   "execution_count": 5,
   "metadata": {},
   "outputs": [
    {
     "name": "stdout",
     "output_type": "stream",
     "text": [
      "number of train data images is 154 and number of features for each image is 65536\n"
     ]
    }
   ],
   "source": [
    "train_data , train_label = loadImages('train')\n",
    "test_data , test_label   = loadImages('test')\n",
    "\n",
    "print(\"number of train data images is\" , train_data.shape[0] , \"and number of features for each image is\", train_data.shape[1])"
   ]
  },
  {
   "cell_type": "code",
   "execution_count": 6,
   "metadata": {},
   "outputs": [],
   "source": [
    "%%capture\n",
    "pca = PCA()\n",
    "pca.fit(train_data)"
   ]
  },
  {
   "cell_type": "code",
   "execution_count": 7,
   "metadata": {},
   "outputs": [
    {
     "data": {
      "image/png": "[encoded data removed]",
      "text/plain": [
       "<Figure size 432x288 with 1 Axes>"
      ]
     },
     "metadata": {
      "needs_background": "light"
     },
     "output_type": "display_data"
    }
   ],
   "source": [
    "eigenvalues = pca.explained_variance_\n",
    "\n",
    "plt.plot(np.arange(len(eigenvalues)), eigenvalues, linewidth = 2)\n",
    "plt.title('Eigen Values of Features')\n",
    "plt.xlabel('Sample')\n",
    "plt.ylabel('Eigen Values')\n",
    "plt.show()"
   ]
  },
  {
   "cell_type": "code",
   "execution_count": 8,
   "metadata": {},
   "outputs": [],
   "source": [
    "eigenvector = pca.components_"
   ]
  },
  {
   "cell_type": "code",
   "execution_count": 9,
   "metadata": {},
   "outputs": [
    {
     "data": {
      "text/plain": [
       "array([19942410, 17914136, 13182893,  6288197])"
      ]
     },
     "execution_count": 9,
     "metadata": {},
     "output_type": "execute_result"
    }
   ],
   "source": [
    "eigenvalues[:4].astype(int)"
   ]
  },
  {
   "cell_type": "code",
   "execution_count": 10,
   "metadata": {},
   "outputs": [
    {
     "data": {
      "text/plain": [
       "array([26264, 25822, 21384,     0])"
      ]
     },
     "execution_count": 10,
     "metadata": {},
     "output_type": "execute_result"
    }
   ],
   "source": [
    "eigenvalues[-4:].astype(int)"
   ]
  },
  {
   "cell_type": "code",
   "execution_count": 11,
   "metadata": {},
   "outputs": [
    {
     "data": {
      "text/plain": [
       "array([7.59295831e+02, 6.93747680e+02, 6.16469818e+02, 9.70126352e+29])"
      ]
     },
     "execution_count": 11,
     "metadata": {},
     "output_type": "execute_result"
    }
   ],
   "source": [
    "eigenvalues[:4].astype(float)/eigenvalues[-4:].astype(float)"
   ]
  },
  {
   "attachments": {},
   "cell_type": "markdown",
   "metadata": {},
   "source": [
    "<center><font color=\"#00FF00\"><h2>Part B</h2></font></center>"
   ]
  },
  {
   "cell_type": "code",
   "execution_count": 12,
   "metadata": {},
   "outputs": [],
   "source": [
    "dfd                 = pd.read_csv('trainData.csv').to_numpy()\n",
    "dft                 = pd.read_csv('trainLabels.csv').to_numpy()"
   ]
  },
  {
   "cell_type": "code",
   "execution_count": 13,
   "metadata": {},
   "outputs": [
    {
     "name": "stderr",
     "output_type": "stream",
     "text": [
      "c:\\Users\\User\\AppData\\Local\\Programs\\Python\\Python310\\lib\\site-packages\\sklearn\\utils\\validation.py:1143: DataConversionWarning: A column-vector y was passed when a 1d array was expected. Please change the shape of y to (n_samples, ), for example using ravel().\n",
      "  y = column_or_1d(y, warn=True)\n"
     ]
    }
   ],
   "source": [
    "lda                 = LinearDiscriminantAnalysis()\n",
    "lda.fit(dfd, dft)\n",
    "\n",
    "# Get the class means\n",
    "class_means         = lda.means_\n",
    "\n",
    "# Get the within-class scatter matrix\n",
    "Sw = np.zeros((dfd.shape[1], dfd.shape[1]))  # Initialize Sw as a zero matrix\n",
    "\n",
    "for i in range(lda.classes_.size):\n",
    "    class_indices   = np.where(dft == lda.classes_[i])  # Get indices of samples in the current class\n",
    "    class_X         = dfd[class_indices]  # Get samples in the current class\n",
    "    class_mean      = class_X.mean(axis=0)  # Calculate mean of the current class\n",
    "    class_scatter   = np.cov(class_X.T)  # Calculate scatter matrix of the current class\n",
    "    Sw              += class_scatter\n",
    "\n",
    "# Apply regularization to Sw\n",
    "Sw                  += np.eye(dfd.shape[1]) * 1e-8  # Add a small positive constant to the diagonal elements\n",
    "\n",
    "# Get the between-class scatter matrix\n",
    "overall_mean        = dfd.mean(axis=0)  # Calculate the overall mean\n",
    "Sb = np.zeros((dfd.shape[1], dfd.shape[1]))  # Initialize Sb as a zero matrix\n",
    "\n",
    "for i in range(lda.classes_.size):\n",
    "    n_samples       = np.sum(dft == lda.classes_[i])  # Count the number of samples in the current class\n",
    "    class_mean_diff = class_means[i] - overall_mean  # Calculate the difference between class mean and overall mean\n",
    "    Sb              += n_samples * np.outer(class_mean_diff, class_mean_diff)\n",
    "\n",
    "# Compute the scattering matrix (Sw^{-1} * Sb)\n",
    "scattering_matrix   = np.linalg.inv(Sw).dot(Sb)\n",
    "eigenvalues, _      = np.linalg.eig(np.linalg.inv(Sw).dot(Sb))"
   ]
  },
  {
   "cell_type": "code",
   "execution_count": 15,
   "metadata": {},
   "outputs": [
    {
     "data": {
      "image/png": "[encoded data removed]",
      "text/plain": [
       "<Figure size 432x288 with 1 Axes>"
      ]
     },
     "metadata": {
      "needs_background": "light"
     },
     "output_type": "display_data"
    }
   ],
   "source": [
    "plt.plot(eigenvalues, linewidth = 2)\n",
    "plt.xlabel('Feature')\n",
    "plt.ylabel('Eigen Values')\n",
    "plt.title('Eigen Values')\n",
    "plt.show()"
   ]
  },
  {
   "cell_type": "code",
   "execution_count": 16,
   "metadata": {},
   "outputs": [],
   "source": [
    "dfSw                 = pd.DataFrame(Sw)\n",
    "dfSb                 = pd.DataFrame(Sb)"
   ]
  },
  {
   "cell_type": "code",
   "execution_count": 17,
   "metadata": {},
   "outputs": [],
   "source": [
    "dfdSw_value          = dfSw.apply(lambda x : x**2).sum(axis = 0)\n",
    "dfdSb_value          = dfSb.apply(lambda x : x**2).sum(axis = 0)\n",
    "separability_measure = np.trace(np.linalg.inv(Sw).dot(Sb))"
   ]
  },
  {
   "cell_type": "code",
   "execution_count": 18,
   "metadata": {},
   "outputs": [],
   "source": [
    "%%capture\n",
    "num_feature   = dfd.shape[1]\n",
    "trace_results = []\n",
    "\n",
    "for feature_idx in range(1, 30):\n",
    "    lda = LinearDiscriminantAnalysis()\n",
    "    lda.fit(dfd[:, :feature_idx], dft)\n",
    "\n",
    "    # Get the within-class scatter matrix\n",
    "    Sw = np.zeros((dfd.shape[1], dfd.shape[1]))  # Initialize Sw as a zero matrix\n",
    "    for i in range(lda.classes_.size):\n",
    "        class_indices = np.where(dft == lda.classes_[i])  # Get indices of samples in the current class\n",
    "        class_X = dfd[class_indices]  # Get samples in the current class\n",
    "        class_mean = class_X.mean(axis=0)  # Calculate mean of the current class\n",
    "        class_scatter = np.cov(class_X.T)  # Calculate scatter matrix of the current class\n",
    "        Sw += class_scatter\n",
    "    # Apply regularization to Sw\n",
    "    Sw += np.eye(dfd.shape[1]) * 1e-8  # Add a small positive constant to the diagonal elements\n",
    "    \n",
    "    # Get the between-class scatter matrix\n",
    "    overall_mean = dfd.mean(axis=0)  # Calculate the overall mean\n",
    "    Sb = np.zeros((dfd.shape[1], dfd.shape[1]))  # Initialize Sb as a zero matrix\n",
    "\n",
    "    for i in range(lda.classes_.size):\n",
    "        n_samples = np.sum(dft == lda.classes_[i])  # Count the number of samples in the current class\n",
    "        class_mean_diff = class_means[i] - overall_mean  # Calculate the difference between class mean and overall mean\n",
    "        Sb += n_samples * np.outer(class_mean_diff, class_mean_diff)\n",
    "\n",
    "    trace_result = np.trace(np.linalg.inv(Sw).dot(Sb))\n",
    "    trace_results.append(trace_result)"
   ]
  },
  {
   "cell_type": "code",
   "execution_count": 19,
   "metadata": {},
   "outputs": [
    {
     "data": {
      "text/plain": [
       "[8.50423123130547e+18,\n",
       " 8.50423123130547e+18,\n",
       " 8.50423123130547e+18,\n",
       " 8.50423123130547e+18,\n",
       " 8.50423123130547e+18,\n",
       " 8.50423123130547e+18,\n",
       " 8.50423123130547e+18,\n",
       " 8.50423123130547e+18,\n",
       " 8.50423123130547e+18,\n",
       " 8.50423123130547e+18,\n",
       " 8.50423123130547e+18,\n",
       " 8.50423123130547e+18,\n",
       " 8.50423123130547e+18,\n",
       " 8.50423123130547e+18,\n",
       " 8.50423123130547e+18,\n",
       " 8.50423123130547e+18,\n",
       " 8.50423123130547e+18,\n",
       " 8.50423123130547e+18,\n",
       " 8.50423123130547e+18,\n",
       " 8.50423123130547e+18,\n",
       " 8.50423123130547e+18,\n",
       " 8.50423123130547e+18,\n",
       " 8.50423123130547e+18,\n",
       " 8.50423123130547e+18,\n",
       " 8.50423123130547e+18,\n",
       " 8.50423123130547e+18,\n",
       " 8.50423123130547e+18,\n",
       " 8.50423123130547e+18,\n",
       " 8.50423123130547e+18]"
      ]
     },
     "execution_count": 19,
     "metadata": {},
     "output_type": "execute_result"
    }
   ],
   "source": [
    "trace_results"
   ]
  },
  {
   "cell_type": "code",
   "execution_count": 20,
   "metadata": {},
   "outputs": [
    {
     "data": {
      "image/png": "[encoded data removed]",
      "text/plain": [
       "<Figure size 432x288 with 1 Axes>"
      ]
     },
     "metadata": {
      "needs_background": "light"
     },
     "output_type": "display_data"
    }
   ],
   "source": [
    "plt.plot(range(len(trace_results)), trace_results, 'or', linewidth = 2)\n",
    "plt.xlabel('Number of Features')\n",
    "plt.ylabel('Trace Result')\n",
    "plt.title('Trace of <$S_w^{-1}S_b$>')\n",
    "plt.show()"
   ]
  },
  {
   "cell_type": "code",
   "execution_count": null,
   "metadata": {},
   "outputs": [],
   "source": []
  }
 ],
 "metadata": {
  "kernelspec": {
   "display_name": "Python 3",
   "language": "python",
   "name": "python3"
  },
  "language_info": {
   "codemirror_mode": {
    "name": "ipython",
    "version": 3
   },
   "file_extension": ".py",
   "mimetype": "text/x-python",
   "name": "python",
   "nbconvert_exporter": "python",
   "pygments_lexer": "ipython3",
   "version": "3.10.4"
  },
  "orig_nbformat": 4
 },
 "nbformat": 4,
 "nbformat_minor": 2
}
