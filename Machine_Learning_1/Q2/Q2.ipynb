{
 "cells": [
  {
   "cell_type": "code",
   "execution_count": 1,
   "metadata": {},
   "outputs": [],
   "source": [
    "import  os\n",
    "import  cv2\n",
    "\n",
    "import  numpy               as np\n",
    "import  matplotlib.pyplot   as plt\n",
    "\n",
    "from    sklearn.metrics     import ConfusionMatrixDisplay"
   ]
  },
  {
   "cell_type": "code",
   "execution_count": 2,
   "metadata": {},
   "outputs": [],
   "source": [
    "path        = 'C:\\\\Users\\\\User\\\\Documents\\\\MachineLearningTA\\\\ML_HW1\\\\Data\\\\image'\n",
    "os.chdir(path=path)\n",
    "list_dir    = os.listdir()"
   ]
  },
  {
   "cell_type": "code",
   "execution_count": 7,
   "metadata": {},
   "outputs": [
    {
     "name": "stdout",
     "output_type": "stream",
     "text": [
      "the image : j44.jpg was mispredicted into being Red\n",
      "the image : j45.jpg was mispredicted into being Red\n",
      "the image : s24.jpg was mispredicted into being Blue\n",
      "\n",
      "number of TP: 39\n",
      "number of TN: 40\n",
      "number of FP: 2\n",
      "number of FN: 1\n",
      "\n",
      "Sensitivity(Recall)       = 0.975\n",
      "Specifity                 = 0.9523809523809523\n",
      "Percision                 = 0.9512195121951219\n",
      "Negative Predictive Value = 0.975609756097561\n",
      "Accuracy                  = 0.9634146341463414\n",
      "\n"
     ]
    },
    {
     "data": {
      "image/png": "[encoded data removed]",
      "text/plain": [
       "<Figure size 432x288 with 2 Axes>"
      ]
     },
     "metadata": {
      "needs_background": "light"
     },
     "output_type": "display_data"
    }
   ],
   "source": [
    "TP      = 0\n",
    "FP      = 0\n",
    "FN      = 0\n",
    "TN      = 0\n",
    "\n",
    "images_list = [0, 0, 0]\n",
    "\n",
    "for file_name in list_dir:\n",
    "  if(file_name.endswith(\".jpg\")):\n",
    "    image_address = path+\"/\"+str(file_name)\n",
    "    images_list[0] = str(file_name)\n",
    "    current_image = cv2.imread(image_address)\n",
    "    for i in range(current_image.shape[0]):\n",
    "      for j in range(current_image.shape[1]):\n",
    "        B,G,R = current_image[i,j]\n",
    "    B,G,R=np.mean(np.mean(current_image,axis=1),axis=0)\n",
    "    if(B>G):\n",
    "      if (file_name.startswith('j')):\n",
    "        FP+=1 #predicted : Blue (sea)    , actual : Green (jungle)\n",
    "        print(f'the image : {file_name} was mispredicted into being Blue')\n",
    "      else:\n",
    "        TP+=1 #predicted : Blue (sea)    , actual : Blue (sea)\n",
    "    else:\n",
    "      if (file_name.startswith('j')):\n",
    "        TN+=1 #predicted : Green (jungle), actual : Green (jungle)\n",
    "      elif (file_name.startswith('s')):\n",
    "        FN+=1 #predicted : Green (jungle), actual : Blue (sea)\n",
    "        print(f'the image : {file_name} was mispredicted into being Green')\n",
    "print()\n",
    "\n",
    "print(f'number of TP: {TP}')\n",
    "print(f'number of TN: {TN}')\n",
    "print(f'number of FP: {FP}')\n",
    "print(f'number of FN: {FN}')\n",
    "print()\n",
    "\n",
    "print(f'Sensitivity(Recall)       = {TP/(TP+FN)}'             )\n",
    "print(f'Specifity                 = {TN/(TN+FP)}'             )\n",
    "print(f'Percision                 = {TP/(TP+FP)}'             )\n",
    "print(f'Negative Predictive Value = {TN/(TN+FN)}'             )\n",
    "print(f'Accuracy                  = {(TP + TN)/(TP+TN+FP+FN)}')\n",
    "print()\n",
    "\n",
    "CM = np.array([TN, FP, FN, TP])\n",
    "\n",
    "disp = ConfusionMatrixDisplay(CM.reshape(2,2))\n",
    "disp.plot(cmap='Blues')\n",
    "plt.show()"
   ]
  }
 ],
 "metadata": {
  "kernelspec": {
   "display_name": "Python 3",
   "language": "python",
   "name": "python3"
  },
  "language_info": {
   "codemirror_mode": {
    "name": "ipython",
    "version": 3
   },
   "file_extension": ".py",
   "mimetype": "text/x-python",
   "name": "python",
   "nbconvert_exporter": "python",
   "pygments_lexer": "ipython3",
   "version": "3.10.4"
  },
  "orig_nbformat": 4,
  "vscode": {
   "interpreter": {
    "hash": "afb734500600fd355917ca529030176ea0ca205570884b88f2f6f7d791fd3fbe"
   }
  }
 },
 "nbformat": 4,
 "nbformat_minor": 2
}
