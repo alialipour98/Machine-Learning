{
 "cells": [
  {
   "cell_type": "code",
   "execution_count": 2,
   "metadata": {},
   "outputs": [],
   "source": [
    "import  numpy                as np\n",
    "import  pandas               as pd\n",
    "import  matplotlib.pyplot    as plt\n",
    "\n",
    "from    sklearn.metrics        import ConfusionMatrixDisplay\n",
    "from    sklearn.metrics        import confusion_matrix"
   ]
  },
  {
   "cell_type": "code",
   "execution_count": 3,
   "metadata": {},
   "outputs": [],
   "source": [
    "df = pd.read_csv('C:\\\\Users\\\\User\\\\Documents\\\\MachineLearningTA\\\\ML_HW1\\\\Data\\\\penguins.csv')"
   ]
  },
  {
   "cell_type": "code",
   "execution_count": 4,
   "metadata": {},
   "outputs": [],
   "source": [
    "df                      = df.replace('x', np.NaN)\n",
    "dfd_1                   = df.iloc[:,[0]]\n",
    "dfd_2                   = df.iloc[:,1: ]\n",
    "dfd_2                   = dfd_2.dropna(axis = 0, how='all')\n",
    "dfd_2                   = dfd_2.applymap(lambda x : float(x))\n",
    "dfd_1                   = dfd_1.iloc[dfd_2.index]\n",
    "df                      = dfd_1.join(dfd_2)"
   ]
  },
  {
   "cell_type": "code",
   "execution_count": 5,
   "metadata": {},
   "outputs": [],
   "source": [
    "def normpdf(x, mean, var):\n",
    "    denom = (2*np.pi*var)**.5\n",
    "    num = np.exp(-(x-mean)**2/(2*var))\n",
    "    return num/denom"
   ]
  },
  {
   "cell_type": "code",
   "execution_count": 6,
   "metadata": {},
   "outputs": [],
   "source": [
    "def priorGiven(x):\n",
    "    x = x.species\n",
    "    totalSample = len(x)\n",
    "    Pw_1        = len(x[x == 'Adelie'    ])/totalSample\n",
    "    Pw_2        = len(x[x == 'Chinstrap' ])/totalSample\n",
    "    Pw_3        = len(x[x == 'Gentoo'    ])/totalSample\n",
    "    return (Pw_1, Pw_2, Pw_3)"
   ]
  },
  {
   "cell_type": "code",
   "execution_count": 7,
   "metadata": {},
   "outputs": [],
   "source": [
    "train_df        = df.sample(frac=0.7, random_state=1234)\n",
    "test_df         = df.drop(train_df.index)"
   ]
  },
  {
   "cell_type": "code",
   "execution_count": 8,
   "metadata": {},
   "outputs": [],
   "source": [
    "train_df        = train_df.reset_index().drop(['index'], axis=1)\n",
    "test_df         = test_df.reset_index().drop(['index'], axis=1)"
   ]
  },
  {
   "cell_type": "code",
   "execution_count": 9,
   "metadata": {},
   "outputs": [],
   "source": [
    "trainMean       = train_df.groupby(['species']).mean()\n",
    "testMean        = test_df.groupby (['species']).mean()\n",
    "trainVar        = train_df.groupby(['species']).var()\n",
    "testVar         = test_df.groupby (['species']).var()"
   ]
  },
  {
   "cell_type": "code",
   "execution_count": 10,
   "metadata": {},
   "outputs": [
    {
     "data": {
      "text/html": [
       "<div>\n",
       "<style scoped>\n",
       "    .dataframe tbody tr th:only-of-type {\n",
       "        vertical-align: middle;\n",
       "    }\n",
       "\n",
       "    .dataframe tbody tr th {\n",
       "        vertical-align: top;\n",
       "    }\n",
       "\n",
       "    .dataframe thead th {\n",
       "        text-align: right;\n",
       "    }\n",
       "</style>\n",
       "<table border=\"1\" class=\"dataframe\">\n",
       "  <thead>\n",
       "    <tr style=\"text-align: right;\">\n",
       "      <th></th>\n",
       "      <th>culmen_length_mm</th>\n",
       "      <th>culmen_depth_mm</th>\n",
       "      <th>flipper_length_mm</th>\n",
       "      <th>body_mass_g</th>\n",
       "    </tr>\n",
       "    <tr>\n",
       "      <th>species</th>\n",
       "      <th></th>\n",
       "      <th></th>\n",
       "      <th></th>\n",
       "      <th></th>\n",
       "    </tr>\n",
       "  </thead>\n",
       "  <tbody>\n",
       "    <tr>\n",
       "      <th>Adelie</th>\n",
       "      <td>38.929524</td>\n",
       "      <td>18.334286</td>\n",
       "      <td>190.190476</td>\n",
       "      <td>3721.190476</td>\n",
       "    </tr>\n",
       "    <tr>\n",
       "      <th>Chinstrap</th>\n",
       "      <td>48.651064</td>\n",
       "      <td>18.363830</td>\n",
       "      <td>196.000000</td>\n",
       "      <td>3759.042553</td>\n",
       "    </tr>\n",
       "    <tr>\n",
       "      <th>Gentoo</th>\n",
       "      <td>47.316667</td>\n",
       "      <td>14.971429</td>\n",
       "      <td>216.750000</td>\n",
       "      <td>5060.714286</td>\n",
       "    </tr>\n",
       "  </tbody>\n",
       "</table>\n",
       "</div>"
      ],
      "text/plain": [
       "           culmen_length_mm  culmen_depth_mm  flipper_length_mm  body_mass_g\n",
       "species                                                                     \n",
       "Adelie            38.929524        18.334286         190.190476  3721.190476\n",
       "Chinstrap         48.651064        18.363830         196.000000  3759.042553\n",
       "Gentoo            47.316667        14.971429         216.750000  5060.714286"
      ]
     },
     "execution_count": 10,
     "metadata": {},
     "output_type": "execute_result"
    }
   ],
   "source": [
    "trainMean"
   ]
  },
  {
   "cell_type": "code",
   "execution_count": 11,
   "metadata": {},
   "outputs": [
    {
     "data": {
      "text/html": [
       "<div>\n",
       "<style scoped>\n",
       "    .dataframe tbody tr th:only-of-type {\n",
       "        vertical-align: middle;\n",
       "    }\n",
       "\n",
       "    .dataframe tbody tr th {\n",
       "        vertical-align: top;\n",
       "    }\n",
       "\n",
       "    .dataframe thead th {\n",
       "        text-align: right;\n",
       "    }\n",
       "</style>\n",
       "<table border=\"1\" class=\"dataframe\">\n",
       "  <thead>\n",
       "    <tr style=\"text-align: right;\">\n",
       "      <th></th>\n",
       "      <th>culmen_length_mm</th>\n",
       "      <th>culmen_depth_mm</th>\n",
       "      <th>flipper_length_mm</th>\n",
       "      <th>body_mass_g</th>\n",
       "    </tr>\n",
       "    <tr>\n",
       "      <th>species</th>\n",
       "      <th></th>\n",
       "      <th></th>\n",
       "      <th></th>\n",
       "      <th></th>\n",
       "    </tr>\n",
       "  </thead>\n",
       "  <tbody>\n",
       "    <tr>\n",
       "      <th>Adelie</th>\n",
       "      <td>38.417778</td>\n",
       "      <td>18.377778</td>\n",
       "      <td>189.355556</td>\n",
       "      <td>3645.000000</td>\n",
       "    </tr>\n",
       "    <tr>\n",
       "      <th>Chinstrap</th>\n",
       "      <td>49.385000</td>\n",
       "      <td>18.545000</td>\n",
       "      <td>195.700000</td>\n",
       "      <td>3686.250000</td>\n",
       "    </tr>\n",
       "    <tr>\n",
       "      <th>Gentoo</th>\n",
       "      <td>47.875000</td>\n",
       "      <td>15.013889</td>\n",
       "      <td>217.972222</td>\n",
       "      <td>5098.611111</td>\n",
       "    </tr>\n",
       "  </tbody>\n",
       "</table>\n",
       "</div>"
      ],
      "text/plain": [
       "           culmen_length_mm  culmen_depth_mm  flipper_length_mm  body_mass_g\n",
       "species                                                                     \n",
       "Adelie            38.417778        18.377778         189.355556  3645.000000\n",
       "Chinstrap         49.385000        18.545000         195.700000  3686.250000\n",
       "Gentoo            47.875000        15.013889         217.972222  5098.611111"
      ]
     },
     "execution_count": 11,
     "metadata": {},
     "output_type": "execute_result"
    }
   ],
   "source": [
    "testMean"
   ]
  },
  {
   "cell_type": "code",
   "execution_count": 12,
   "metadata": {},
   "outputs": [
    {
     "data": {
      "text/html": [
       "<div>\n",
       "<style scoped>\n",
       "    .dataframe tbody tr th:only-of-type {\n",
       "        vertical-align: middle;\n",
       "    }\n",
       "\n",
       "    .dataframe tbody tr th {\n",
       "        vertical-align: top;\n",
       "    }\n",
       "\n",
       "    .dataframe thead th {\n",
       "        text-align: right;\n",
       "    }\n",
       "</style>\n",
       "<table border=\"1\" class=\"dataframe\">\n",
       "  <thead>\n",
       "    <tr style=\"text-align: right;\">\n",
       "      <th></th>\n",
       "      <th>culmen_length_mm</th>\n",
       "      <th>culmen_depth_mm</th>\n",
       "      <th>flipper_length_mm</th>\n",
       "      <th>body_mass_g</th>\n",
       "    </tr>\n",
       "    <tr>\n",
       "      <th>species</th>\n",
       "      <th></th>\n",
       "      <th></th>\n",
       "      <th></th>\n",
       "      <th></th>\n",
       "    </tr>\n",
       "  </thead>\n",
       "  <tbody>\n",
       "    <tr>\n",
       "      <th>Adelie</th>\n",
       "      <td>6.316332</td>\n",
       "      <td>1.299967</td>\n",
       "      <td>42.540293</td>\n",
       "      <td>207100.732601</td>\n",
       "    </tr>\n",
       "    <tr>\n",
       "      <th>Chinstrap</th>\n",
       "      <td>12.028205</td>\n",
       "      <td>1.415402</td>\n",
       "      <td>58.608696</td>\n",
       "      <td>166288.737280</td>\n",
       "    </tr>\n",
       "    <tr>\n",
       "      <th>Gentoo</th>\n",
       "      <td>8.671044</td>\n",
       "      <td>0.921583</td>\n",
       "      <td>34.888554</td>\n",
       "      <td>208272.375215</td>\n",
       "    </tr>\n",
       "  </tbody>\n",
       "</table>\n",
       "</div>"
      ],
      "text/plain": [
       "           culmen_length_mm  culmen_depth_mm  flipper_length_mm    body_mass_g\n",
       "species                                                                       \n",
       "Adelie             6.316332         1.299967          42.540293  207100.732601\n",
       "Chinstrap         12.028205         1.415402          58.608696  166288.737280\n",
       "Gentoo             8.671044         0.921583          34.888554  208272.375215"
      ]
     },
     "execution_count": 12,
     "metadata": {},
     "output_type": "execute_result"
    }
   ],
   "source": [
    "trainVar"
   ]
  },
  {
   "cell_type": "code",
   "execution_count": 13,
   "metadata": {},
   "outputs": [
    {
     "data": {
      "text/html": [
       "<div>\n",
       "<style scoped>\n",
       "    .dataframe tbody tr th:only-of-type {\n",
       "        vertical-align: middle;\n",
       "    }\n",
       "\n",
       "    .dataframe tbody tr th {\n",
       "        vertical-align: top;\n",
       "    }\n",
       "\n",
       "    .dataframe thead th {\n",
       "        text-align: right;\n",
       "    }\n",
       "</style>\n",
       "<table border=\"1\" class=\"dataframe\">\n",
       "  <thead>\n",
       "    <tr style=\"text-align: right;\">\n",
       "      <th></th>\n",
       "      <th>culmen_length_mm</th>\n",
       "      <th>culmen_depth_mm</th>\n",
       "      <th>flipper_length_mm</th>\n",
       "      <th>body_mass_g</th>\n",
       "    </tr>\n",
       "    <tr>\n",
       "      <th>species</th>\n",
       "      <th></th>\n",
       "      <th></th>\n",
       "      <th></th>\n",
       "      <th></th>\n",
       "    </tr>\n",
       "  </thead>\n",
       "  <tbody>\n",
       "    <tr>\n",
       "      <th>Adelie</th>\n",
       "      <td>8.944222</td>\n",
       "      <td>1.971768</td>\n",
       "      <td>44.643434</td>\n",
       "      <td>220414.772727</td>\n",
       "    </tr>\n",
       "    <tr>\n",
       "      <th>Chinstrap</th>\n",
       "      <td>9.485553</td>\n",
       "      <td>1.093132</td>\n",
       "      <td>35.589474</td>\n",
       "      <td>110097.039474</td>\n",
       "    </tr>\n",
       "    <tr>\n",
       "      <th>Gentoo</th>\n",
       "      <td>11.686500</td>\n",
       "      <td>1.146373</td>\n",
       "      <td>61.856349</td>\n",
       "      <td>387248.015873</td>\n",
       "    </tr>\n",
       "  </tbody>\n",
       "</table>\n",
       "</div>"
      ],
      "text/plain": [
       "           culmen_length_mm  culmen_depth_mm  flipper_length_mm    body_mass_g\n",
       "species                                                                       \n",
       "Adelie             8.944222         1.971768          44.643434  220414.772727\n",
       "Chinstrap          9.485553         1.093132          35.589474  110097.039474\n",
       "Gentoo            11.686500         1.146373          61.856349  387248.015873"
      ]
     },
     "execution_count": 13,
     "metadata": {},
     "output_type": "execute_result"
    }
   ],
   "source": [
    "testVar"
   ]
  },
  {
   "cell_type": "code",
   "execution_count": 14,
   "metadata": {},
   "outputs": [],
   "source": [
    "Ptrain_x_yi         = train_df.iloc[:, 1:].groupby(train_df.species).apply(lambda x : normpdf(x, x.mean(), x.var())).join(train_df.species)\n",
    "Ptest_x_yi          = test_df.iloc [:, 1:].groupby(test_df.species ).apply(lambda x : normpdf(x, x.mean(), x.var())).join(test_df.species)"
   ]
  },
  {
   "cell_type": "code",
   "execution_count": 15,
   "metadata": {},
   "outputs": [],
   "source": [
    "p_x1_y_1            = normpdf(test_df['culmen_length_mm' ], trainMean.loc['Adelie', 'culmen_length_mm'    ], trainVar.loc['Adelie', 'culmen_length_mm'    ])\n",
    "p_x2_y_1            = normpdf(test_df['culmen_depth_mm'  ], trainMean.loc['Adelie', 'culmen_depth_mm'     ], trainVar.loc['Adelie', 'culmen_depth_mm'     ])\n",
    "p_x3_y_1            = normpdf(test_df['flipper_length_mm'], trainMean.loc['Adelie', 'flipper_length_mm'   ], trainVar.loc['Adelie', 'flipper_length_mm'   ])\n",
    "p_x4_y_1            = normpdf(test_df['body_mass_g'      ], trainMean.loc['Adelie', 'body_mass_g'         ], trainVar.loc['Adelie', 'body_mass_g'         ])\n",
    "\n",
    "p_x1_y_2            = normpdf(test_df['culmen_length_mm' ], trainMean.loc['Chinstrap', 'culmen_length_mm' ], trainVar.loc['Chinstrap', 'culmen_length_mm' ])\n",
    "p_x2_y_2            = normpdf(test_df['culmen_depth_mm'  ], trainMean.loc['Chinstrap', 'culmen_depth_mm'  ], trainVar.loc['Chinstrap', 'culmen_depth_mm'  ])\n",
    "p_x3_y_2            = normpdf(test_df['flipper_length_mm'], trainMean.loc['Chinstrap', 'flipper_length_mm'], trainVar.loc['Chinstrap', 'flipper_length_mm'])\n",
    "p_x4_y_2            = normpdf(test_df['body_mass_g'      ], trainMean.loc['Chinstrap', 'body_mass_g'      ], trainVar.loc['Chinstrap', 'body_mass_g'      ])\n",
    "\n",
    "p_x1_y_3            = normpdf(test_df['culmen_length_mm' ], trainMean.loc['Gentoo', 'culmen_length_mm'    ], trainVar.loc['Gentoo', 'culmen_length_mm'    ])\n",
    "p_x2_y_3            = normpdf(test_df['culmen_depth_mm'  ], trainMean.loc['Gentoo', 'culmen_depth_mm'     ], trainVar.loc['Gentoo', 'culmen_depth_mm'     ])\n",
    "p_x3_y_3            = normpdf(test_df['flipper_length_mm'], trainMean.loc['Gentoo', 'flipper_length_mm'   ], trainVar.loc['Gentoo', 'flipper_length_mm'   ])\n",
    "p_x4_y_3            = normpdf(test_df['body_mass_g'      ], trainMean.loc['Gentoo', 'body_mass_g'         ], trainVar.loc['Gentoo', 'body_mass_g'         ])"
   ]
  },
  {
   "cell_type": "code",
   "execution_count": 16,
   "metadata": {},
   "outputs": [],
   "source": [
    "(p_y1, p_y2, p_y3)  = priorGiven(train_df)"
   ]
  },
  {
   "cell_type": "code",
   "execution_count": 17,
   "metadata": {},
   "outputs": [],
   "source": [
    "naive_y1            = (p_y1*(p_x1_y_1 * p_x2_y_1 * p_x3_y_1 * p_x4_y_1)).to_numpy()\n",
    "naive_y2            = (p_y1*(p_x1_y_2 * p_x2_y_2 * p_x3_y_2 * p_x4_y_2)).to_numpy()\n",
    "naive_y3            = (p_y1*(p_x1_y_3 * p_x2_y_3 * p_x3_y_3 * p_x4_y_3)).to_numpy()"
   ]
  },
  {
   "cell_type": "code",
   "execution_count": 18,
   "metadata": {},
   "outputs": [
    {
     "name": "stdout",
     "output_type": "stream",
     "text": [
      "Naïve Bayes Accuracy = 0.9702970297029703\n"
     ]
    }
   ],
   "source": [
    "Naive               = np.c_[naive_y1, naive_y2, naive_y3]\n",
    "ArgMax              = Naive.argmax(axis=1)\n",
    "IndexClass          = test_df.species.apply(['Adelie', 'Chinstrap', 'Gentoo'].index)\n",
    "TotalSample         = Naive.shape[0]\n",
    "\n",
    "print(f'Naïve Bayes Accuracy = {sum(ArgMax == IndexClass)/TotalSample}')"
   ]
  },
  {
   "cell_type": "code",
   "execution_count": 19,
   "metadata": {},
   "outputs": [
    {
     "data": {
      "image/png": "[encoded data removed]",
      "text/plain": [
       "<Figure size 432x288 with 2 Axes>"
      ]
     },
     "metadata": {
      "needs_background": "light"
     },
     "output_type": "display_data"
    }
   ],
   "source": [
    "Actual              = IndexClass\n",
    "Prediced            = ArgMax\n",
    "\n",
    "confusion_matrix(Actual, Prediced)\n",
    "C_M = confusion_matrix(Actual, Prediced)\n",
    "C_M\n",
    "\n",
    "disp = ConfusionMatrixDisplay(C_M)\n",
    "disp.plot(cmap='Purples')\n",
    "plt.show()"
   ]
  },
  {
   "cell_type": "code",
   "execution_count": 20,
   "metadata": {},
   "outputs": [],
   "source": [
    "import  numpy                   as np\n",
    "import  pandas                  as pd\n",
    "import  matplotlib.pyplot       as plt\n",
    "\n",
    "from    sklearn.metrics        import ConfusionMatrixDisplay\n",
    "from    sklearn.metrics        import confusion_matrix\n",
    "from    sklearn.naive_bayes    import GaussianNB"
   ]
  },
  {
   "cell_type": "code",
   "execution_count": 21,
   "metadata": {},
   "outputs": [],
   "source": [
    "feature_NB  = train_df.iloc[:, 1:]\n",
    "label_NB    = train_df.iloc[:, 0].apply(['Adelie', 'Chinstrap', 'Gentoo'].index)"
   ]
  },
  {
   "cell_type": "code",
   "execution_count": 22,
   "metadata": {},
   "outputs": [],
   "source": [
    "N_test_data = test_df.shape[0]\n",
    "clf_NB      = GaussianNB()\n",
    "clf_NB.fit(feature_NB, label_NB);"
   ]
  },
  {
   "cell_type": "code",
   "execution_count": 23,
   "metadata": {},
   "outputs": [
    {
     "name": "stdout",
     "output_type": "stream",
     "text": [
      "Naïve Bayes Accuracy(Using library) = 0.9702970297029703\n"
     ]
    }
   ],
   "source": [
    "label_Test  = test_df.iloc[:, 0].apply(['Adelie', 'Chinstrap', 'Gentoo'].index)\n",
    "pred        = clf_NB.predict(test_df.iloc[:, 1:])\n",
    "acc         = sum(pred == label_Test)/N_test_data\n",
    "\n",
    "print(f'Naïve Bayes Accuracy(Using library) = {acc}')"
   ]
  },
  {
   "cell_type": "code",
   "execution_count": 24,
   "metadata": {},
   "outputs": [
    {
     "data": {
      "image/png": "[encoded data removed]",
      "text/plain": [
       "<Figure size 432x288 with 2 Axes>"
      ]
     },
     "metadata": {
      "needs_background": "light"
     },
     "output_type": "display_data"
    }
   ],
   "source": [
    "Actual              = label_Test\n",
    "Prediced            = pred\n",
    "\n",
    "confusion_matrix(Actual, Prediced)\n",
    "C_M = confusion_matrix(Actual, Prediced)\n",
    "C_M\n",
    "\n",
    "disp = ConfusionMatrixDisplay(C_M)\n",
    "disp.plot(cmap='Purples')\n",
    "plt.show()"
   ]
  }
 ],
 "metadata": {
  "kernelspec": {
   "display_name": "Python 3",
   "language": "python",
   "name": "python3"
  },
  "language_info": {
   "codemirror_mode": {
    "name": "ipython",
    "version": 3
   },
   "file_extension": ".py",
   "mimetype": "text/x-python",
   "name": "python",
   "nbconvert_exporter": "python",
   "pygments_lexer": "ipython3",
   "version": "3.10.4"
  },
  "orig_nbformat": 4,
  "vscode": {
   "interpreter": {
    "hash": "afb734500600fd355917ca529030176ea0ca205570884b88f2f6f7d791fd3fbe"
   }
  }
 },
 "nbformat": 4,
 "nbformat_minor": 2
}
