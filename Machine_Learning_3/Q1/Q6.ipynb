{
 "cells": [
  {
   "attachments": {},
   "cell_type": "markdown",
   "metadata": {},
   "source": [
    "<center><font color=\"#e30b5d\"><h1>Question 6</h1></font></center>"
   ]
  },
  {
   "cell_type": "code",
   "execution_count": 47,
   "metadata": {},
   "outputs": [],
   "source": [
    "import pandas                   as pd\n",
    "import numpy                    as np\n",
    "import seaborn                  as sns\n",
    "import matplotlib.pyplot        as plt\n",
    "\n",
    "from sklearn.model_selection    import train_test_split\n",
    "from sklearn.neural_network     import MLPClassifier\n",
    "from sklearn.metrics            import accuracy_score\n",
    "from sklearn.metrics            import classification_report\n",
    "from sklearn.metrics            import confusion_matrix\n",
    "from sklearn.preprocessing      import StandardScaler"
   ]
  },
  {
   "cell_type": "code",
   "execution_count": 25,
   "metadata": {},
   "outputs": [],
   "source": [
    "df          = pd.read_csv('ECG.csv', index_col=0)\n",
    "data        = df.iloc[:, 1:]\n",
    "labels      = df.iloc[:, [0]]\n",
    "columnName  = data.columns\n",
    "data.head();"
   ]
  },
  {
   "cell_type": "code",
   "execution_count": 26,
   "metadata": {},
   "outputs": [
    {
     "data": {
      "text/html": [
       "<div>\n",
       "<style scoped>\n",
       "    .dataframe tbody tr th:only-of-type {\n",
       "        vertical-align: middle;\n",
       "    }\n",
       "\n",
       "    .dataframe tbody tr th {\n",
       "        vertical-align: top;\n",
       "    }\n",
       "\n",
       "    .dataframe thead th {\n",
       "        text-align: right;\n",
       "    }\n",
       "</style>\n",
       "<table border=\"1\" class=\"dataframe\">\n",
       "  <thead>\n",
       "    <tr style=\"text-align: right;\">\n",
       "      <th></th>\n",
       "      <th>0</th>\n",
       "    </tr>\n",
       "    <tr>\n",
       "      <th>label</th>\n",
       "      <th></th>\n",
       "    </tr>\n",
       "  </thead>\n",
       "  <tbody>\n",
       "    <tr>\n",
       "      <th>N</th>\n",
       "      <td>5992</td>\n",
       "    </tr>\n",
       "    <tr>\n",
       "      <th>O</th>\n",
       "      <td>3151</td>\n",
       "    </tr>\n",
       "    <tr>\n",
       "      <th>A</th>\n",
       "      <td>923</td>\n",
       "    </tr>\n",
       "    <tr>\n",
       "      <th>~</th>\n",
       "      <td>187</td>\n",
       "    </tr>\n",
       "  </tbody>\n",
       "</table>\n",
       "</div>"
      ],
      "text/plain": [
       "          0\n",
       "label      \n",
       "N      5992\n",
       "O      3151\n",
       "A       923\n",
       "~       187"
      ]
     },
     "execution_count": 26,
     "metadata": {},
     "output_type": "execute_result"
    }
   ],
   "source": [
    "classNum = pd.DataFrame(labels.value_counts())\n",
    "classNum"
   ]
  },
  {
   "cell_type": "code",
   "execution_count": 27,
   "metadata": {},
   "outputs": [
    {
     "data": {
      "image/png": "[encoded data removed]",
      "text/plain": [
       "<Figure size 432x288 with 1 Axes>"
      ]
     },
     "metadata": {
      "needs_background": "light"
     },
     "output_type": "display_data"
    }
   ],
   "source": [
    "sns.countplot(x=\"label\", data=labels)\n",
    "plt.show()"
   ]
  },
  {
   "cell_type": "code",
   "execution_count": 28,
   "metadata": {},
   "outputs": [],
   "source": [
    "%%capture\n",
    "train_data, test_data, train_labels, test_labels = train_test_split(data, labels, test_size=0.1)\n",
    "\n",
    "clf = MLPClassifier(solver='lbfgs', alpha=1e-5, hidden_layer_sizes=(127, 85, 45), random_state=1)\n",
    "\n",
    "clf.fit(train_data, train_labels)\n",
    "\n",
    "predictions_train   = clf.predict(train_data)\n",
    "predictions_test    = clf.predict(test_data)\n",
    "train_score         = accuracy_score(predictions_train, train_labels)\n",
    "test_score          = accuracy_score(predictions_test, test_labels)"
   ]
  },
  {
   "cell_type": "code",
   "execution_count": 29,
   "metadata": {},
   "outputs": [
    {
     "name": "stdout",
     "output_type": "stream",
     "text": [
      "score on train data :  0.6472309526389942\n",
      "score on test  data :  0.6686159844054581\n"
     ]
    }
   ],
   "source": [
    "print(\"score on train data : \", train_score)\n",
    "print(\"score on test  data : \", test_score )"
   ]
  },
  {
   "cell_type": "code",
   "execution_count": 30,
   "metadata": {},
   "outputs": [],
   "source": [
    "%%capture\n",
    "c = classification_report(test_labels, predictions_test)"
   ]
  },
  {
   "cell_type": "code",
   "execution_count": 31,
   "metadata": {},
   "outputs": [
    {
     "data": {
      "image/png": "[encoded data removed]",
      "text/plain": [
       "<Figure size 432x288 with 1 Axes>"
      ]
     },
     "metadata": {
      "needs_background": "light"
     },
     "output_type": "display_data"
    }
   ],
   "source": [
    "confusion_mtx = confusion_matrix(test_labels, predictions_test)\n",
    "\n",
    "sns.heatmap(confusion_mtx.T, square=True, annot=True, fmt='d', cbar=False,\n",
    "            xticklabels=['A', 'N', 'O', '~'], yticklabels=['A', 'N', 'O', '~'], cmap = plt.cm.jet)\n",
    "plt.xlabel('True Label')\n",
    "plt.ylabel('Predicted Label')\n",
    "plt.show()"
   ]
  },
  {
   "cell_type": "code",
   "execution_count": 32,
   "metadata": {},
   "outputs": [
    {
     "name": "stdout",
     "output_type": "stream",
     "text": [
      "              precision    recall  f1-score   support\n",
      "\n",
      "           A       0.00      0.00      0.00        76\n",
      "           N       0.69      0.94      0.79       608\n",
      "           O       0.58      0.35      0.44       323\n",
      "           ~       0.00      0.00      0.00        19\n",
      "\n",
      "    accuracy                           0.67      1026\n",
      "   macro avg       0.32      0.32      0.31      1026\n",
      "weighted avg       0.59      0.67      0.61      1026\n",
      "\n"
     ]
    }
   ],
   "source": [
    "print(c)"
   ]
  },
  {
   "cell_type": "code",
   "execution_count": 49,
   "metadata": {},
   "outputs": [],
   "source": [
    "Norm = StandardScaler()\n",
    "Norm.fit(data)\n",
    "data = pd.DataFrame(Norm.transform(data), columns = columnName)"
   ]
  },
  {
   "cell_type": "code",
   "execution_count": 50,
   "metadata": {},
   "outputs": [],
   "source": [
    "%%capture\n",
    "train_data, test_data, train_labels, test_labels = train_test_split(data, labels, test_size=0.1)\n",
    "\n",
    "clf = MLPClassifier(solver='lbfgs', alpha=1e-5, hidden_layer_sizes=(127, 85, 45), random_state=1)\n",
    "\n",
    "clf.fit(train_data, train_labels)\n",
    "\n",
    "predictions_train   = clf.predict(train_data)\n",
    "predictions_test    = clf.predict(test_data)\n",
    "train_score         = accuracy_score(predictions_train, train_labels)\n",
    "test_score          = accuracy_score(predictions_test, test_labels)"
   ]
  },
  {
   "cell_type": "code",
   "execution_count": 51,
   "metadata": {},
   "outputs": [
    {
     "name": "stdout",
     "output_type": "stream",
     "text": [
      "score on train data:  1.0\n",
      "score on test data :  0.8742690058479532\n"
     ]
    }
   ],
   "source": [
    "print(\"score on train data: \", train_score)\n",
    "print(\"score on test data : \", test_score )"
   ]
  },
  {
   "cell_type": "code",
   "execution_count": 52,
   "metadata": {},
   "outputs": [],
   "source": [
    "%%capture\n",
    "c = classification_report(test_labels, predictions_test)"
   ]
  },
  {
   "cell_type": "code",
   "execution_count": 53,
   "metadata": {},
   "outputs": [
    {
     "data": {
      "image/png": "[encoded data removed]",
      "text/plain": [
       "<Figure size 432x288 with 1 Axes>"
      ]
     },
     "metadata": {
      "needs_background": "light"
     },
     "output_type": "display_data"
    }
   ],
   "source": [
    "confusion_mtx = confusion_matrix(test_labels, predictions_test)\n",
    "\n",
    "sns.heatmap(confusion_mtx.T, square=True, annot=True, fmt='d', cbar=False, \n",
    "            xticklabels=['A', 'N', 'O', '~'], yticklabels=['A', 'N', 'O', '~'], cmap = plt.cm.jet)\n",
    "plt.xlabel('True Label')\n",
    "plt.ylabel('Predicted Label')\n",
    "plt.show()"
   ]
  },
  {
   "cell_type": "code",
   "execution_count": 54,
   "metadata": {},
   "outputs": [
    {
     "name": "stdout",
     "output_type": "stream",
     "text": [
      "              precision    recall  f1-score   support\n",
      "\n",
      "           A       0.91      0.84      0.87        86\n",
      "           N       0.89      0.92      0.91       577\n",
      "           O       0.85      0.82      0.83       352\n",
      "           ~       0.46      0.55      0.50        11\n",
      "\n",
      "    accuracy                           0.87      1026\n",
      "   macro avg       0.78      0.78      0.78      1026\n",
      "weighted avg       0.87      0.87      0.87      1026\n",
      "\n"
     ]
    }
   ],
   "source": [
    "print(c)"
   ]
  },
  {
   "cell_type": "code",
   "execution_count": 55,
   "metadata": {},
   "outputs": [],
   "source": [
    "df          = pd.read_csv('ECG.csv', index_col=0)\n",
    "data        = df.iloc[:, 1:]\n",
    "labels      = df.iloc[:, [0]]\n",
    "columnName  = data.columns\n",
    "data.head();"
   ]
  },
  {
   "cell_type": "code",
   "execution_count": 56,
   "metadata": {},
   "outputs": [],
   "source": [
    "data_r      = data.loc  [labels.label != '~', :]\n",
    "labels_r    = labels.loc[labels.label != '~', :]\n",
    "labels_r    = labels_r.replace('A', 'O')"
   ]
  },
  {
   "cell_type": "code",
   "execution_count": 57,
   "metadata": {},
   "outputs": [],
   "source": [
    "Norm        = StandardScaler()\n",
    "Norm.fit(data_r)\n",
    "data_r      = pd.DataFrame(Norm.transform(data_r), columns = columnName)"
   ]
  },
  {
   "cell_type": "code",
   "execution_count": 58,
   "metadata": {},
   "outputs": [],
   "source": [
    "%%capture\n",
    "train_data, test_data, train_labels, test_labels = train_test_split(data_r, labels_r, test_size=0.1)\n",
    "\n",
    "clf = MLPClassifier(solver='lbfgs', alpha=1e-5, hidden_layer_sizes=(127, 85, 45), random_state=1)\n",
    "\n",
    "clf.fit(train_data, train_labels)\n",
    "\n",
    "predictions_train   = clf.predict(train_data)\n",
    "predictions_test    = clf.predict(test_data)\n",
    "train_score         = accuracy_score(predictions_train, train_labels)\n",
    "test_score          = accuracy_score(predictions_test, test_labels)"
   ]
  },
  {
   "cell_type": "code",
   "execution_count": 59,
   "metadata": {},
   "outputs": [
    {
     "name": "stdout",
     "output_type": "stream",
     "text": [
      "score on train data :  1.0\n",
      "score on test  data :  0.9106256206554121\n"
     ]
    }
   ],
   "source": [
    "print(\"score on train data : \", train_score)\n",
    "print(\"score on test  data : \", test_score )"
   ]
  },
  {
   "cell_type": "code",
   "execution_count": 44,
   "metadata": {},
   "outputs": [],
   "source": [
    "%%capture\n",
    "c = classification_report(test_labels, predictions_test)"
   ]
  },
  {
   "cell_type": "code",
   "execution_count": 45,
   "metadata": {},
   "outputs": [
    {
     "data": {
      "image/png": "[encoded data removed]",
      "text/plain": [
       "<Figure size 432x288 with 1 Axes>"
      ]
     },
     "metadata": {
      "needs_background": "light"
     },
     "output_type": "display_data"
    }
   ],
   "source": [
    "confusion_mtx = confusion_matrix(test_labels, predictions_test)\n",
    "\n",
    "sns.heatmap(confusion_mtx.T, square=True, annot=True, fmt='d', cbar=False, \n",
    "            xticklabels=['N', 'O'], yticklabels=['N', 'O'], cmap = plt.cm.jet)\n",
    "plt.xlabel('True Label')\n",
    "plt.ylabel('Predicted Label')\n",
    "plt.show()"
   ]
  },
  {
   "cell_type": "code",
   "execution_count": 46,
   "metadata": {},
   "outputs": [
    {
     "name": "stdout",
     "output_type": "stream",
     "text": [
      "              precision    recall  f1-score   support\n",
      "\n",
      "           N       0.79      0.88      0.83       601\n",
      "           O       0.79      0.66      0.72       406\n",
      "\n",
      "    accuracy                           0.79      1007\n",
      "   macro avg       0.79      0.77      0.78      1007\n",
      "weighted avg       0.79      0.79      0.79      1007\n",
      "\n"
     ]
    }
   ],
   "source": [
    "print(c)"
   ]
  },
  {
   "cell_type": "code",
   "execution_count": null,
   "metadata": {},
   "outputs": [],
   "source": []
  }
 ],
 "metadata": {
  "kernelspec": {
   "display_name": "Python 3",
   "language": "python",
   "name": "python3"
  },
  "language_info": {
   "codemirror_mode": {
    "name": "ipython",
    "version": 3
   },
   "file_extension": ".py",
   "mimetype": "text/x-python",
   "name": "python",
   "nbconvert_exporter": "python",
   "pygments_lexer": "ipython3",
   "version": "3.10.4"
  },
  "orig_nbformat": 4
 },
 "nbformat": 4,
 "nbformat_minor": 2
}
