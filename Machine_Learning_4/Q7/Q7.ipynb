{
 "cells": [
  {
   "attachments": {},
   "cell_type": "markdown",
   "metadata": {},
   "source": [
    "<center><font color=\"#e30b5d\"><h1>Question 7</h1></font></center>"
   ]
  },
  {
   "attachments": {},
   "cell_type": "markdown",
   "metadata": {},
   "source": [
    "<center><font color=\"#0FF000\"><h1>Part A</h2></font></center>"
   ]
  },
  {
   "cell_type": "code",
   "execution_count": 2,
   "metadata": {},
   "outputs": [],
   "source": [
    "import  pandas                  as pd\n",
    "import  numpy                   as np\n",
    "import  matplotlib.pyplot       as plt\n",
    "import  seaborn                 as sns\n",
    "\n",
    "from    sklearn.svm             import SVC\n",
    "from    sklearn.svm             import SVR\n",
    "from    sklearn.datasets        import load_iris\n",
    "from    sklearn.model_selection import train_test_split\n",
    "from    sklearn.model_selection import GridSearchCV\n",
    "from    sklearn.metrics         import accuracy_score\n",
    "from    sklearn.metrics         import confusion_matrix\n",
    "from    sklearn.metrics         import classification_report\n",
    "from    sklearn.metrics         import ConfusionMatrixDisplay\n",
    "from    sklearn.preprocessing   import StandardScaler\n",
    "from    matplotlib.colors       import ListedColormap\n",
    "from    matplotlib.pyplot       import pcolormesh"
   ]
  },
  {
   "cell_type": "code",
   "execution_count": 3,
   "metadata": {},
   "outputs": [
    {
     "data": {
      "text/html": [
       "<div>\n",
       "<style scoped>\n",
       "    .dataframe tbody tr th:only-of-type {\n",
       "        vertical-align: middle;\n",
       "    }\n",
       "\n",
       "    .dataframe tbody tr th {\n",
       "        vertical-align: top;\n",
       "    }\n",
       "\n",
       "    .dataframe thead th {\n",
       "        text-align: right;\n",
       "    }\n",
       "</style>\n",
       "<table border=\"1\" class=\"dataframe\">\n",
       "  <thead>\n",
       "    <tr style=\"text-align: right;\">\n",
       "      <th></th>\n",
       "      <th>Position</th>\n",
       "      <th>Level</th>\n",
       "      <th>Salary</th>\n",
       "    </tr>\n",
       "  </thead>\n",
       "  <tbody>\n",
       "    <tr>\n",
       "      <th>0</th>\n",
       "      <td>Business Analyst</td>\n",
       "      <td>1</td>\n",
       "      <td>45000</td>\n",
       "    </tr>\n",
       "    <tr>\n",
       "      <th>1</th>\n",
       "      <td>Junior Consultant</td>\n",
       "      <td>2</td>\n",
       "      <td>50000</td>\n",
       "    </tr>\n",
       "    <tr>\n",
       "      <th>2</th>\n",
       "      <td>Senior Consultant</td>\n",
       "      <td>3</td>\n",
       "      <td>60000</td>\n",
       "    </tr>\n",
       "    <tr>\n",
       "      <th>3</th>\n",
       "      <td>Manager</td>\n",
       "      <td>4</td>\n",
       "      <td>80000</td>\n",
       "    </tr>\n",
       "    <tr>\n",
       "      <th>4</th>\n",
       "      <td>Country Manager</td>\n",
       "      <td>5</td>\n",
       "      <td>110000</td>\n",
       "    </tr>\n",
       "    <tr>\n",
       "      <th>5</th>\n",
       "      <td>Region Manager</td>\n",
       "      <td>6</td>\n",
       "      <td>150000</td>\n",
       "    </tr>\n",
       "    <tr>\n",
       "      <th>6</th>\n",
       "      <td>Partner</td>\n",
       "      <td>7</td>\n",
       "      <td>200000</td>\n",
       "    </tr>\n",
       "    <tr>\n",
       "      <th>7</th>\n",
       "      <td>Senior Partner</td>\n",
       "      <td>8</td>\n",
       "      <td>300000</td>\n",
       "    </tr>\n",
       "    <tr>\n",
       "      <th>8</th>\n",
       "      <td>C-level</td>\n",
       "      <td>9</td>\n",
       "      <td>500000</td>\n",
       "    </tr>\n",
       "    <tr>\n",
       "      <th>9</th>\n",
       "      <td>CEO</td>\n",
       "      <td>10</td>\n",
       "      <td>1000000</td>\n",
       "    </tr>\n",
       "  </tbody>\n",
       "</table>\n",
       "</div>"
      ],
      "text/plain": [
       "            Position  Level   Salary\n",
       "0   Business Analyst      1    45000\n",
       "1  Junior Consultant      2    50000\n",
       "2  Senior Consultant      3    60000\n",
       "3            Manager      4    80000\n",
       "4    Country Manager      5   110000\n",
       "5     Region Manager      6   150000\n",
       "6            Partner      7   200000\n",
       "7     Senior Partner      8   300000\n",
       "8            C-level      9   500000\n",
       "9                CEO     10  1000000"
      ]
     },
     "execution_count": 3,
     "metadata": {},
     "output_type": "execute_result"
    }
   ],
   "source": [
    "df = pd.read_csv('Q7-Part1.csv')\n",
    "df"
   ]
  },
  {
   "cell_type": "code",
   "execution_count": 4,
   "metadata": {},
   "outputs": [
    {
     "data": {
      "text/html": [
       "<div>\n",
       "<style scoped>\n",
       "    .dataframe tbody tr th:only-of-type {\n",
       "        vertical-align: middle;\n",
       "    }\n",
       "\n",
       "    .dataframe tbody tr th {\n",
       "        vertical-align: top;\n",
       "    }\n",
       "\n",
       "    .dataframe thead th {\n",
       "        text-align: right;\n",
       "    }\n",
       "</style>\n",
       "<table border=\"1\" class=\"dataframe\">\n",
       "  <thead>\n",
       "    <tr style=\"text-align: right;\">\n",
       "      <th></th>\n",
       "      <th>Position</th>\n",
       "      <th>Level</th>\n",
       "      <th>Salary</th>\n",
       "    </tr>\n",
       "  </thead>\n",
       "  <tbody>\n",
       "    <tr>\n",
       "      <th>0</th>\n",
       "      <td>Business Analyst</td>\n",
       "      <td>1</td>\n",
       "      <td>0.018036</td>\n",
       "    </tr>\n",
       "    <tr>\n",
       "      <th>1</th>\n",
       "      <td>Junior Consultant</td>\n",
       "      <td>2</td>\n",
       "      <td>0.020040</td>\n",
       "    </tr>\n",
       "    <tr>\n",
       "      <th>2</th>\n",
       "      <td>Senior Consultant</td>\n",
       "      <td>3</td>\n",
       "      <td>0.024048</td>\n",
       "    </tr>\n",
       "    <tr>\n",
       "      <th>3</th>\n",
       "      <td>Manager</td>\n",
       "      <td>4</td>\n",
       "      <td>0.032064</td>\n",
       "    </tr>\n",
       "    <tr>\n",
       "      <th>4</th>\n",
       "      <td>Country Manager</td>\n",
       "      <td>5</td>\n",
       "      <td>0.044088</td>\n",
       "    </tr>\n",
       "    <tr>\n",
       "      <th>5</th>\n",
       "      <td>Region Manager</td>\n",
       "      <td>6</td>\n",
       "      <td>0.060120</td>\n",
       "    </tr>\n",
       "    <tr>\n",
       "      <th>6</th>\n",
       "      <td>Partner</td>\n",
       "      <td>7</td>\n",
       "      <td>0.080160</td>\n",
       "    </tr>\n",
       "    <tr>\n",
       "      <th>7</th>\n",
       "      <td>Senior Partner</td>\n",
       "      <td>8</td>\n",
       "      <td>0.120240</td>\n",
       "    </tr>\n",
       "    <tr>\n",
       "      <th>8</th>\n",
       "      <td>C-level</td>\n",
       "      <td>9</td>\n",
       "      <td>0.200401</td>\n",
       "    </tr>\n",
       "    <tr>\n",
       "      <th>9</th>\n",
       "      <td>CEO</td>\n",
       "      <td>10</td>\n",
       "      <td>0.400802</td>\n",
       "    </tr>\n",
       "  </tbody>\n",
       "</table>\n",
       "</div>"
      ],
      "text/plain": [
       "            Position  Level    Salary\n",
       "0   Business Analyst      1  0.018036\n",
       "1  Junior Consultant      2  0.020040\n",
       "2  Senior Consultant      3  0.024048\n",
       "3            Manager      4  0.032064\n",
       "4    Country Manager      5  0.044088\n",
       "5     Region Manager      6  0.060120\n",
       "6            Partner      7  0.080160\n",
       "7     Senior Partner      8  0.120240\n",
       "8            C-level      9  0.200401\n",
       "9                CEO     10  0.400802"
      ]
     },
     "execution_count": 4,
     "metadata": {},
     "output_type": "execute_result"
    }
   ],
   "source": [
    "df        = pd.read_csv('Q7-Part1.csv')\n",
    "df.Salary = df.Salary.div(df.Salary.sum().astype(float))\n",
    "df"
   ]
  },
  {
   "cell_type": "code",
   "execution_count": 5,
   "metadata": {},
   "outputs": [],
   "source": [
    "df = pd.read_csv('Q7-Part1.csv')\n",
    "\n",
    "Xtrain, Xtest, Ytrain, Ytest = train_test_split(df.Level, df.Salary, test_size = 0.3, random_state = 1)\n",
    "\n",
    "Xtrain = sorted(Xtrain)\n",
    "Xtest  = sorted(Xtest )\n",
    "Ytrain = sorted(Ytrain)\n",
    "Ytest  = sorted(Ytest )"
   ]
  },
  {
   "attachments": {},
   "cell_type": "markdown",
   "metadata": {},
   "source": [
    "<center><font color=\"#FFFF00\"><h3>Linear</h3></font></center>"
   ]
  },
  {
   "cell_type": "code",
   "execution_count": 6,
   "metadata": {},
   "outputs": [],
   "source": [
    "%%capture\n",
    "SVR_model   = SVC(kernel = 'linear')\n",
    "SVR_model.fit(np.array(Xtrain).reshape(-1, 1), np.array(Ytrain).reshape(-1, 1))\n",
    "predic      = SVR_model.predict(np.array(Xtest).reshape(-1, 1))"
   ]
  },
  {
   "cell_type": "code",
   "execution_count": 7,
   "metadata": {},
   "outputs": [
    {
     "data": {
      "image/png": "[encoded data removed]",
      "text/plain": [
       "<Figure size 432x288 with 1 Axes>"
      ]
     },
     "metadata": {
      "needs_background": "light"
     },
     "output_type": "display_data"
    }
   ],
   "source": [
    "plt.plot(Xtest, predic, '--r', label = 'After Prediction', linewidth = 4)\n",
    "plt.plot(Xtest, Ytest, '-b', label = 'Before Prediction')\n",
    "plt.title('Predicted By SVR (Support Vector Regression)')\n",
    "plt.xlabel('Level')\n",
    "plt.ylabel('Salary')\n",
    "plt.legend()\n",
    "plt.show()"
   ]
  },
  {
   "attachments": {},
   "cell_type": "markdown",
   "metadata": {},
   "source": [
    "<center><font color=\"#FFFF00\"><h3>RBF</h3></font></center>"
   ]
  },
  {
   "cell_type": "code",
   "execution_count": 8,
   "metadata": {},
   "outputs": [],
   "source": [
    "%%capture\n",
    "SVR_model   = SVC(kernel = 'rbf')\n",
    "SVR_model.fit(np.array(Xtrain).reshape(-1, 1), np.array(Ytrain).reshape(-1, 1))\n",
    "predic      = SVR_model.predict(np.array(Xtest).reshape(-1, 1))"
   ]
  },
  {
   "cell_type": "code",
   "execution_count": 9,
   "metadata": {},
   "outputs": [
    {
     "data": {
      "image/png": "[encoded data removed]",
      "text/plain": [
       "<Figure size 432x288 with 1 Axes>"
      ]
     },
     "metadata": {
      "needs_background": "light"
     },
     "output_type": "display_data"
    }
   ],
   "source": [
    "plt.plot(Xtest, predic, '--r', label = 'After Prediction', linewidth = 4)\n",
    "plt.plot(Xtest, Ytest, '-b', label = 'Before Prediction')\n",
    "plt.title('Predicted By SVR (Support Vector Regression)')\n",
    "plt.xlabel('Level')\n",
    "plt.ylabel('Salary')\n",
    "plt.legend()\n",
    "plt.show()"
   ]
  },
  {
   "attachments": {},
   "cell_type": "markdown",
   "metadata": {},
   "source": [
    "<center><font color=\"#FFFF00\"><h3>Polynomial</h3></font></center>"
   ]
  },
  {
   "cell_type": "code",
   "execution_count": 11,
   "metadata": {},
   "outputs": [],
   "source": [
    "%%capture\n",
    "SVR_model   = SVC(kernel = 'poly')\n",
    "SVR_model.fit(np.array(Xtrain).reshape(-1, 1), np.array(Ytrain).reshape(-1, 1))\n",
    "predic      = SVR_model.predict(np.array(Xtest).reshape(-1, 1))"
   ]
  },
  {
   "cell_type": "code",
   "execution_count": 12,
   "metadata": {},
   "outputs": [
    {
     "data": {
      "image/png": "[encoded data removed]",
      "text/plain": [
       "<Figure size 432x288 with 1 Axes>"
      ]
     },
     "metadata": {
      "needs_background": "light"
     },
     "output_type": "display_data"
    }
   ],
   "source": [
    "plt.plot(Xtest, predic, '--r', label = 'After Prediction', linewidth = 4)\n",
    "plt.plot(Xtest, Ytest, '-b', label = 'Before Prediction')\n",
    "plt.title('Predicted By SVR (Support Vector Regression)')\n",
    "plt.xlabel('Level')\n",
    "plt.ylabel('Salary')\n",
    "plt.legend()\n",
    "plt.show()"
   ]
  },
  {
   "attachments": {},
   "cell_type": "markdown",
   "metadata": {},
   "source": [
    "<center><font color=\"#0FF000\"><h1>Part B</h2></font></center>"
   ]
  },
  {
   "cell_type": "code",
   "execution_count": 13,
   "metadata": {},
   "outputs": [],
   "source": [
    "SC              = StandardScaler()"
   ]
  },
  {
   "cell_type": "code",
   "execution_count": 14,
   "metadata": {},
   "outputs": [],
   "source": [
    "dftrain         = pd.read_csv('H1.csv')\n",
    "dftest          = pd.read_csv('H2.csv')\n",
    "\n",
    "Train_data      = dftrain.loc[:, (dftrain.columns != 'ADR') & (dftrain.columns != 'Country')]\n",
    "Test_data       = dftest.loc[:, (dftest.columns != 'ADR') & (dftest.columns != 'Country')]\n",
    "\n",
    "Train_Target    = dftrain.ADR.to_numpy()\n",
    "Test_Target     = dftest.ADR.to_numpy()\n",
    "\n",
    "Test_Mean       = Test_Target.mean()\n",
    "Test_STD        = Test_Target.std()"
   ]
  },
  {
   "cell_type": "code",
   "execution_count": 15,
   "metadata": {},
   "outputs": [],
   "source": [
    "SC.fit(Train_Target.reshape(-1, 1))\n",
    "Train_Target = SC.transform(Train_Target.reshape(-1, 1))\n",
    "\n",
    "SC.fit(Test_Target.reshape(-1, 1))\n",
    "Test_Target = SC.transform(Test_Target.reshape(-1, 1))"
   ]
  },
  {
   "cell_type": "code",
   "execution_count": 16,
   "metadata": {},
   "outputs": [],
   "source": [
    "%%capture\n",
    "Train_data.ArrivalDateMonth     = Train_data.ArrivalDateMonth.apply(([  'April',\n",
    "                                                                        'August',\n",
    "                                                                        'December',\n",
    "                                                                        'February',\n",
    "                                                                        'January',\n",
    "                                                                        'July',\n",
    "                                                                        'June',\n",
    "                                                                        'March',\n",
    "                                                                        'May',\n",
    "                                                                        'November',\n",
    "                                                                        'October',\n",
    "                                                                        'September']).index)\n",
    "#---------------------------------------------------------------------------------------------------------------------------------------------#\n",
    "Train_data.MarketSegment        = Train_data.MarketSegment.apply(([ 'Aviation',\n",
    "                                                                    'Complementary',\n",
    "                                                                    'Corporate',\n",
    "                                                                    'Direct',\n",
    "                                                                    'Groups',\n",
    "                                                                    'Offline TA/TO',\n",
    "                                                                    'Online TA',\n",
    "                                                                    'Undefined']).index)\n",
    "#---------------------------------------------------------------------------------------------------------------------------------------------#\n",
    "Train_data.ReservedRoomType     = Train_data.ReservedRoomType.apply(([  'A               ',\n",
    "                                                                        'B               ',\n",
    "                                                                        'C               ',\n",
    "                                                                        'D               ',\n",
    "                                                                        'E               ',\n",
    "                                                                        'F               ',\n",
    "                                                                        'G               ',\n",
    "                                                                        'H               ',\n",
    "                                                                        'L               ',\n",
    "                                                                        'P               ']).index)\n",
    "#---------------------------------------------------------------------------------------------------------------------------------------------#\n",
    "Train_data.AssignedRoomType     = Train_data.AssignedRoomType.apply(([  'A               ',\n",
    "                                                                        'B               ',\n",
    "                                                                        'C               ',\n",
    "                                                                        'D               ',\n",
    "                                                                        'E               ',\n",
    "                                                                        'F               ',\n",
    "                                                                        'G               ',\n",
    "                                                                        'H               ',\n",
    "                                                                        'I               ',\n",
    "                                                                        'L               ',\n",
    "                                                                        'P               ']).index)\n",
    "#---------------------------------------------------------------------------------------------------------------------------------------------#\n",
    "Train_data.Meal                 = Train_data.Meal.apply((['BB       ', 'FB       ', 'HB       ', 'SC       ', 'Undefined']).index)\n",
    "#---------------------------------------------------------------------------------------------------------------------------------------------#\n",
    "Train_data.DepositType          = Train_data.DepositType.apply((['No Deposit     ', 'Non Refund     ', 'Refundable     ']).index)\n",
    "#---------------------------------------------------------------------------------------------------------------------------------------------#\n",
    "Train_data.CustomerType         = Train_data.CustomerType.apply((['Contract', 'Group', 'Transient', 'Transient-Party']).index)\n",
    "#---------------------------------------------------------------------------------------------------------------------------------------------#\n",
    "Train_data.ReservationStatus    = Train_data.ReservationStatus.apply((['Canceled', 'Check-Out', 'No-Show']).index)\n",
    "#---------------------------------------------------------------------------------------------------------------------------------------------#\n",
    "Train_data.DistributionChannel  = Train_data.DistributionChannel.apply((['Corporate', 'Direct', 'GDS', 'TA/TO', 'Undefined']).index)"
   ]
  },
  {
   "cell_type": "code",
   "execution_count": 17,
   "metadata": {},
   "outputs": [],
   "source": [
    "%%capture\n",
    "Test_data.ArrivalDateMonth     = Test_data.ArrivalDateMonth.apply((['April',\n",
    "                                                                    'August',\n",
    "                                                                    'December',\n",
    "                                                                    'February',\n",
    "                                                                    'January',\n",
    "                                                                    'July',\n",
    "                                                                    'June',\n",
    "                                                                    'March',\n",
    "                                                                    'May',\n",
    "                                                                    'November',\n",
    "                                                                    'October',\n",
    "                                                                    'September']).index)\n",
    "#---------------------------------------------------------------------------------------------------------------------------------------------#\n",
    "Test_data.MarketSegment        = Test_data.MarketSegment.apply((['Aviation',\n",
    "                                                                'Complementary',\n",
    "                                                                'Corporate',\n",
    "                                                                'Direct',\n",
    "                                                                'Groups',\n",
    "                                                                'Offline TA/TO',\n",
    "                                                                'Online TA',\n",
    "                                                                'Undefined']).index)\n",
    "#---------------------------------------------------------------------------------------------------------------------------------------------#\n",
    "Test_data.ReservedRoomType     = Test_data.ReservedRoomType.apply((['A               ',\n",
    "                                                                    'B               ',\n",
    "                                                                    'C               ',\n",
    "                                                                    'D               ',\n",
    "                                                                    'E               ',\n",
    "                                                                    'F               ',\n",
    "                                                                    'G               ',\n",
    "                                                                    'P               ']).index)\n",
    "#---------------------------------------------------------------------------------------------------------------------------------------------#\n",
    "Test_data.AssignedRoomType     = Test_data.AssignedRoomType.apply((['A               ',\n",
    "                                                                    'B               ',\n",
    "                                                                    'C               ',\n",
    "                                                                    'D               ',\n",
    "                                                                    'E               ',\n",
    "                                                                    'F               ',\n",
    "                                                                    'G               ',\n",
    "                                                                    'K               ',\n",
    "                                                                    'P               ']).index)\n",
    "#---------------------------------------------------------------------------------------------------------------------------------------------#\n",
    "Test_data.Meal                 = Test_data.Meal.apply((['BB       ', 'FB       ', 'HB       ', 'SC       ', 'Undefined']).index)\n",
    "#---------------------------------------------------------------------------------------------------------------------------------------------#\n",
    "Test_data.DepositType          = Test_data.DepositType.apply((['No Deposit     ', 'Non Refund     ', 'Refundable     ']).index)\n",
    "#---------------------------------------------------------------------------------------------------------------------------------------------#\n",
    "Test_data.CustomerType         = Test_data.CustomerType.apply((['Contract', 'Group', 'Transient', 'Transient-Party']).index)\n",
    "#---------------------------------------------------------------------------------------------------------------------------------------------#\n",
    "Test_data.ReservationStatus    = Test_data.ReservationStatus.apply((['Canceled', 'Check-Out', 'No-Show']).index)\n",
    "#---------------------------------------------------------------------------------------------------------------------------------------------#\n",
    "Test_data.DistributionChannel  = Test_data.DistributionChannel.apply((['Corporate', 'Direct', 'GDS', 'TA/TO', 'Undefined']).index)"
   ]
  },
  {
   "cell_type": "code",
   "execution_count": 18,
   "metadata": {},
   "outputs": [],
   "source": [
    "model = SVR(kernel = 'poly', degree = 30)"
   ]
  },
  {
   "cell_type": "code",
   "execution_count": 19,
   "metadata": {},
   "outputs": [],
   "source": [
    "%%capture\n",
    "model.fit(Train_data, Train_Target)"
   ]
  },
  {
   "cell_type": "code",
   "execution_count": 20,
   "metadata": {},
   "outputs": [],
   "source": [
    "Coeffs = pd.DataFrame(model.dual_coef_).T\n",
    "Coeffs.to_csv('Coeffs.csv', index=False)"
   ]
  },
  {
   "cell_type": "code",
   "execution_count": 21,
   "metadata": {},
   "outputs": [],
   "source": [
    "%%capture\n",
    "Test_data.Children = Test_data.Children.fillna(0)"
   ]
  },
  {
   "cell_type": "code",
   "execution_count": 22,
   "metadata": {},
   "outputs": [],
   "source": [
    "ypred = model.predict(Test_data)"
   ]
  },
  {
   "cell_type": "code",
   "execution_count": 23,
   "metadata": {},
   "outputs": [
    {
     "data": {
      "text/html": [
       "<div>\n",
       "<style scoped>\n",
       "    .dataframe tbody tr th:only-of-type {\n",
       "        vertical-align: middle;\n",
       "    }\n",
       "\n",
       "    .dataframe tbody tr th {\n",
       "        vertical-align: top;\n",
       "    }\n",
       "\n",
       "    .dataframe thead th {\n",
       "        text-align: right;\n",
       "    }\n",
       "</style>\n",
       "<table border=\"1\" class=\"dataframe\">\n",
       "  <thead>\n",
       "    <tr style=\"text-align: right;\">\n",
       "      <th></th>\n",
       "      <th>Read</th>\n",
       "      <th>Predicted</th>\n",
       "      <th>Difference</th>\n",
       "    </tr>\n",
       "  </thead>\n",
       "  <tbody>\n",
       "    <tr>\n",
       "      <th>0</th>\n",
       "      <td>-0.0</td>\n",
       "      <td>79.50</td>\n",
       "      <td>79.50</td>\n",
       "    </tr>\n",
       "    <tr>\n",
       "      <th>1</th>\n",
       "      <td>76.5</td>\n",
       "      <td>89.53</td>\n",
       "      <td>13.03</td>\n",
       "    </tr>\n",
       "    <tr>\n",
       "      <th>2</th>\n",
       "      <td>68.0</td>\n",
       "      <td>85.02</td>\n",
       "      <td>17.02</td>\n",
       "    </tr>\n",
       "    <tr>\n",
       "      <th>3</th>\n",
       "      <td>76.5</td>\n",
       "      <td>90.51</td>\n",
       "      <td>14.01</td>\n",
       "    </tr>\n",
       "    <tr>\n",
       "      <th>4</th>\n",
       "      <td>76.5</td>\n",
       "      <td>89.51</td>\n",
       "      <td>13.01</td>\n",
       "    </tr>\n",
       "  </tbody>\n",
       "</table>\n",
       "</div>"
      ],
      "text/plain": [
       "   Read  Predicted  Difference\n",
       "0  -0.0      79.50       79.50\n",
       "1  76.5      89.53       13.03\n",
       "2  68.0      85.02       17.02\n",
       "3  76.5      90.51       14.01\n",
       "4  76.5      89.51       13.01"
      ]
     },
     "execution_count": 23,
     "metadata": {},
     "output_type": "execute_result"
    }
   ],
   "source": [
    "Real        = (Test_Target.reshape(-1, 1) * Test_STD + Test_Mean).round(2)\n",
    "Prediced    = (ypred.reshape(-1, 1) * Test_STD + Test_Mean).round(2)\n",
    "df          = pd.DataFrame(np.c_[Real, Prediced, abs(Real - Prediced)], columns = ['Read', 'Predicted', 'Difference'])\n",
    "df.head()"
   ]
  },
  {
   "cell_type": "code",
   "execution_count": 24,
   "metadata": {},
   "outputs": [],
   "source": [
    "df.to_csv('Part_2.csv')"
   ]
  }
 ],
 "metadata": {
  "kernelspec": {
   "display_name": "Python 3",
   "language": "python",
   "name": "python3"
  },
  "language_info": {
   "codemirror_mode": {
    "name": "ipython",
    "version": 3
   },
   "file_extension": ".py",
   "mimetype": "text/x-python",
   "name": "python",
   "nbconvert_exporter": "python",
   "pygments_lexer": "ipython3",
   "version": "3.10.4"
  },
  "orig_nbformat": 4
 },
 "nbformat": 4,
 "nbformat_minor": 2
}
